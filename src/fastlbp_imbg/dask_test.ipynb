{
 "cells": [
  {
   "cell_type": "code",
   "execution_count": 14,
   "id": "0a0f145b-ecd9-4d56-83ea-0507ee201fbc",
   "metadata": {},
   "outputs": [],
   "source": [
    "import dask\n",
    "import dask.array as da\n",
    "from skimage import feature\n",
    "from PIL import Image\n",
    "import numpy as np\n",
    "import time\n",
    "import matplotlib.pyplot as plt\n",
    "\n",
    "Image.MAX_IMAGE_PIXELS = None"
   ]
  },
  {
   "cell_type": "code",
   "execution_count": 15,
   "id": "0af43005-b076-4aed-b534-91f843176540",
   "metadata": {},
   "outputs": [
    {
     "data": {
      "text/plain": [
       "<dask.config.set at 0x14edb50cd690>"
      ]
     },
     "execution_count": 15,
     "metadata": {},
     "output_type": "execute_result"
    }
   ],
   "source": [
    "# Set configurations for Dask\n",
    "dask.config.set(\n",
    "    scheduler='threads',\n",
    "    num_workers=4,\n",
    "    memory_limit='48GB',  # 80% of 64GB RAM\n",
    "    temporaries=True\n",
    ")"
   ]
  },
  {
   "cell_type": "code",
   "execution_count": 16,
   "id": "38d96247-fc21-4b35-b281-45f7b37253de",
   "metadata": {},
   "outputs": [],
   "source": [
    "def calculate_lbp(image, radius, points):\n",
    "    # Convert to NumPy array if necessary\n",
    "    image_np = np.array(image)\n",
    "\n",
    "    # Your code to calculate LBP\n",
    "    lbp_result = feature.local_binary_pattern(image_np, points, radius, method='uniform')\n",
    "    return lbp_result"
   ]
  },
  {
   "cell_type": "code",
   "execution_count": 17,
   "id": "eadfc212-9fb7-4d5c-8df8-c27e8f7ff19e",
   "metadata": {},
   "outputs": [],
   "source": [
    "def calculate_lbp_delayed(image_path, radius, points):\n",
    "    # Open the image using dask.array.from_array with adjusted chunk size\n",
    "    image = da.from_array(np.array(Image.open(image_path)), chunks=(1000, 1000))\n",
    "\n",
    "    # Calculate LBP with the specified parameters\n",
    "    result = calculate_lbp(image, radius, points)\n",
    "    return result"
   ]
  },
  {
   "cell_type": "code",
   "execution_count": 18,
   "id": "a4181aab-87c8-440f-b29c-5c3738ff3825",
   "metadata": {},
   "outputs": [],
   "source": [
    "def parallel_lbp(image_path, radius_list, points_list):\n",
    "    # Create tasks to calculate LBP for different parameters\n",
    "    delayed_tasks = [dask.delayed(calculate_lbp_delayed)(image_path, radius, points) for radius in radius_list for points in points_list]\n",
    "\n",
    "    # Gather results\n",
    "    start_time = time.time()\n",
    "    results = dask.compute(*delayed_tasks, num_workers=len(delayed_tasks))\n",
    "    end_time = time.time()\n",
    "\n",
    "    # Print execution time\n",
    "    print(f\"Execution time: {end_time - start_time} seconds\")\n",
    "\n",
    "    return results"
   ]
  },
  {
   "cell_type": "code",
   "execution_count": 19,
   "id": "0a4ea803-e4c5-4b4b-bd2d-92773a3ba134",
   "metadata": {},
   "outputs": [],
   "source": [
    "def plot_results(results, radius_list, points_list):\n",
    "    num_results = len(results)\n",
    "    \n",
    "    fig, axes = plt.subplots(len(radius_list), len(points_list), figsize=(12, 12))\n",
    "\n",
    "    for i, radius in enumerate(radius_list):\n",
    "        for j, points in enumerate(points_list):\n",
    "            index = i * len(points_list) + j\n",
    "            ax = axes[i, j]\n",
    "\n",
    "            ax.imshow(results[index], cmap='gray')\n",
    "            ax.set_title(f\"Radius={radius}, Points={points}\")\n",
    "            ax.axis('off')\n",
    "\n",
    "    plt.tight_layout()\n",
    "    plt.show(block=False)\n"
   ]
  },
  {
   "cell_type": "code",
   "execution_count": 20,
   "id": "03579197-24cd-44e2-84a2-2b8856bd75a6",
   "metadata": {},
   "outputs": [
    {
     "name": "stdout",
     "output_type": "stream",
     "text": [
      "Execution time: 15.672741174697876 seconds\n"
     ]
    }
   ],
   "source": [
    "# Example usage\n",
    "image_path = '/lustre/scratch126/casm/team268im/yk3/testDask&Cupy/img_L_10000x10000.tiff'\n",
    "radius_list = [1, 2, 3]\n",
    "points_list = [8, 16]\n",
    "\n",
    "# Call the parallel function\n",
    "results = parallel_lbp(image_path, radius_list, points_list)\n",
    "\n",
    "# Visualize the results\n",
    "# plot_results(results, radius_list, points_list)"
   ]
  },
  {
   "cell_type": "code",
   "execution_count": null,
   "id": "eee577b0-6279-4574-b4b8-571dfa2d9620",
   "metadata": {},
   "outputs": [],
   "source": []
  }
 ],
 "metadata": {
  "kernelspec": {
   "display_name": "cupy_ker",
   "language": "python",
   "name": "cupy_ker"
  },
  "language_info": {
   "codemirror_mode": {
    "name": "ipython",
    "version": 3
   },
   "file_extension": ".py",
   "mimetype": "text/x-python",
   "name": "python",
   "nbconvert_exporter": "python",
   "pygments_lexer": "ipython3",
   "version": "3.11.5"
  }
 },
 "nbformat": 4,
 "nbformat_minor": 5
}
