{
 "cells": [
  {
   "cell_type": "code",
   "execution_count": 2,
   "metadata": {},
   "outputs": [],
   "source": [
    "from PIL import Image \n",
    "import pandas as pd\n",
    "from pandas import DataFrame\n",
    "import numpy as np"
   ]
  },
  {
   "cell_type": "code",
   "execution_count": 3,
   "metadata": {},
   "outputs": [
    {
     "data": {
      "text/plain": [
       "array([0, 1, 2, 3, 4, 5, 6, 7, 8, 9])"
      ]
     },
     "execution_count": 3,
     "metadata": {},
     "output_type": "execute_result"
    }
   ],
   "source": [
    "a = np.arange(10)\n",
    "a"
   ]
  },
  {
   "cell_type": "code",
   "execution_count": 9,
   "metadata": {},
   "outputs": [
    {
     "data": {
      "text/plain": [
       "array([-1,  0,  1,  2,  3,  4,  5,  6,  7,  8])"
      ]
     },
     "execution_count": 9,
     "metadata": {},
     "output_type": "execute_result"
    }
   ],
   "source": [
    "np.hstack([[-1],a[:-1]])"
   ]
  },
  {
   "cell_type": "code",
   "execution_count": 11,
   "metadata": {},
   "outputs": [
    {
     "data": {
      "text/plain": [
       "array([[ 0,  1,  2,  3],\n",
       "       [ 4,  5,  6,  7],\n",
       "       [ 8,  9, 10, 11]])"
      ]
     },
     "execution_count": 11,
     "metadata": {},
     "output_type": "execute_result"
    }
   ],
   "source": [
    "a = np.arange(12).reshape(3,4)\n",
    "a"
   ]
  },
  {
   "cell_type": "code",
   "execution_count": 12,
   "metadata": {},
   "outputs": [
    {
     "data": {
      "text/plain": [
       "array([1, 5, 9])"
      ]
     },
     "execution_count": 12,
     "metadata": {},
     "output_type": "execute_result"
    }
   ],
   "source": [
    "b = a[:,1]\n",
    "b"
   ]
  },
  {
   "cell_type": "code",
   "execution_count": 13,
   "metadata": {},
   "outputs": [],
   "source": [
    "b[2] = 10000"
   ]
  },
  {
   "cell_type": "code",
   "execution_count": 14,
   "metadata": {},
   "outputs": [
    {
     "data": {
      "text/plain": [
       "array([[    0,     1,     2,     3],\n",
       "       [    4,     5,     6,     7],\n",
       "       [    8, 10000,    10,    11]])"
      ]
     },
     "execution_count": 14,
     "metadata": {},
     "output_type": "execute_result"
    }
   ],
   "source": [
    "a"
   ]
  },
  {
   "cell_type": "code",
   "execution_count": 21,
   "metadata": {},
   "outputs": [
    {
     "data": {
      "text/plain": [
       "4"
      ]
     },
     "execution_count": 21,
     "metadata": {},
     "output_type": "execute_result"
    }
   ],
   "source": [
    "np.dtype('uint32').itemsize"
   ]
  },
  {
   "cell_type": "code",
   "execution_count": 24,
   "metadata": {},
   "outputs": [
    {
     "data": {
      "text/plain": [
       "array([0, 3, 1, 1, 0, 1, 1, 1, 1, 0, 0, 0, 0, 0, 0], dtype=int64)"
      ]
     },
     "execution_count": 24,
     "metadata": {},
     "output_type": "execute_result"
    }
   ],
   "source": [
    "a = np.array([1,2,3,1,5,6,1,7,8])\n",
    "np.bincount(a, minlength=15)"
   ]
  },
  {
   "cell_type": "code",
   "execution_count": 28,
   "metadata": {},
   "outputs": [
    {
     "data": {
      "text/plain": [
       "(180, 151, 114)"
      ]
     },
     "execution_count": 28,
     "metadata": {},
     "output_type": "execute_result"
    }
   ],
   "source": [
    "ddd = np.load('../../lbp_skimage.npy')\n",
    "ddd.shape"
   ]
  },
  {
   "cell_type": "code",
   "execution_count": 4,
   "metadata": {},
   "outputs": [],
   "source": [
    "img = Image.open(\"../../data/1.tiff\")"
   ]
  },
  {
   "cell_type": "code",
   "execution_count": 5,
   "metadata": {},
   "outputs": [
    {
     "data": {
      "text/plain": [
       "'../../data/1.tiff'"
      ]
     },
     "execution_count": 5,
     "metadata": {},
     "output_type": "execute_result"
    }
   ],
   "source": [
    "img.filename"
   ]
  },
  {
   "cell_type": "code",
   "execution_count": 9,
   "metadata": {},
   "outputs": [],
   "source": [
    "radii_list = [1,2,3]\n",
    "npoints_list = [10,20,30]\n",
    "channel_list = [0,1,2]\n",
    "patchsize = 100\n",
    "imgname = \"img1\""
   ]
  },
  {
   "cell_type": "code",
   "execution_count": 10,
   "metadata": {},
   "outputs": [
    {
     "data": {
      "text/html": [
       "<div>\n",
       "<style scoped>\n",
       "    .dataframe tbody tr th:only-of-type {\n",
       "        vertical-align: middle;\n",
       "    }\n",
       "\n",
       "    .dataframe tbody tr th {\n",
       "        vertical-align: top;\n",
       "    }\n",
       "\n",
       "    .dataframe thead th {\n",
       "        text-align: right;\n",
       "    }\n",
       "</style>\n",
       "<table border=\"1\" class=\"dataframe\">\n",
       "  <thead>\n",
       "    <tr style=\"text-align: right;\">\n",
       "      <th></th>\n",
       "      <th></th>\n",
       "      <th>channel</th>\n",
       "      <th>radius</th>\n",
       "      <th>img_name</th>\n",
       "      <th>label</th>\n",
       "      <th>npoints</th>\n",
       "      <th>patchsize</th>\n",
       "    </tr>\n",
       "    <tr>\n",
       "      <th>channel</th>\n",
       "      <th>radius</th>\n",
       "      <th></th>\n",
       "      <th></th>\n",
       "      <th></th>\n",
       "      <th></th>\n",
       "      <th></th>\n",
       "      <th></th>\n",
       "    </tr>\n",
       "  </thead>\n",
       "  <tbody>\n",
       "    <tr>\n",
       "      <th rowspan=\"3\" valign=\"top\">0</th>\n",
       "      <th>1</th>\n",
       "      <td>0</td>\n",
       "      <td>1</td>\n",
       "      <td>img1</td>\n",
       "      <td>img1_c0_r1_p10</td>\n",
       "      <td>10</td>\n",
       "      <td>100</td>\n",
       "    </tr>\n",
       "    <tr>\n",
       "      <th>2</th>\n",
       "      <td>0</td>\n",
       "      <td>2</td>\n",
       "      <td>img1</td>\n",
       "      <td>img1_c0_r2_p20</td>\n",
       "      <td>20</td>\n",
       "      <td>100</td>\n",
       "    </tr>\n",
       "    <tr>\n",
       "      <th>3</th>\n",
       "      <td>0</td>\n",
       "      <td>3</td>\n",
       "      <td>img1</td>\n",
       "      <td>img1_c0_r3_p30</td>\n",
       "      <td>30</td>\n",
       "      <td>100</td>\n",
       "    </tr>\n",
       "    <tr>\n",
       "      <th rowspan=\"3\" valign=\"top\">1</th>\n",
       "      <th>1</th>\n",
       "      <td>1</td>\n",
       "      <td>1</td>\n",
       "      <td>img1</td>\n",
       "      <td>img1_c1_r1_p10</td>\n",
       "      <td>10</td>\n",
       "      <td>100</td>\n",
       "    </tr>\n",
       "    <tr>\n",
       "      <th>2</th>\n",
       "      <td>1</td>\n",
       "      <td>2</td>\n",
       "      <td>img1</td>\n",
       "      <td>img1_c1_r2_p20</td>\n",
       "      <td>20</td>\n",
       "      <td>100</td>\n",
       "    </tr>\n",
       "    <tr>\n",
       "      <th>3</th>\n",
       "      <td>1</td>\n",
       "      <td>3</td>\n",
       "      <td>img1</td>\n",
       "      <td>img1_c1_r3_p30</td>\n",
       "      <td>30</td>\n",
       "      <td>100</td>\n",
       "    </tr>\n",
       "    <tr>\n",
       "      <th rowspan=\"3\" valign=\"top\">2</th>\n",
       "      <th>1</th>\n",
       "      <td>2</td>\n",
       "      <td>1</td>\n",
       "      <td>img1</td>\n",
       "      <td>img1_c2_r1_p10</td>\n",
       "      <td>10</td>\n",
       "      <td>100</td>\n",
       "    </tr>\n",
       "    <tr>\n",
       "      <th>2</th>\n",
       "      <td>2</td>\n",
       "      <td>2</td>\n",
       "      <td>img1</td>\n",
       "      <td>img1_c2_r2_p20</td>\n",
       "      <td>20</td>\n",
       "      <td>100</td>\n",
       "    </tr>\n",
       "    <tr>\n",
       "      <th>3</th>\n",
       "      <td>2</td>\n",
       "      <td>3</td>\n",
       "      <td>img1</td>\n",
       "      <td>img1_c2_r3_p30</td>\n",
       "      <td>30</td>\n",
       "      <td>100</td>\n",
       "    </tr>\n",
       "  </tbody>\n",
       "</table>\n",
       "</div>"
      ],
      "text/plain": [
       "               channel radius img_name           label npoints  patchsize\n",
       "channel radius                                                           \n",
       "0       1            0      1     img1  img1_c0_r1_p10      10        100\n",
       "        2            0      2     img1  img1_c0_r2_p20      20        100\n",
       "        3            0      3     img1  img1_c0_r3_p30      30        100\n",
       "1       1            1      1     img1  img1_c1_r1_p10      10        100\n",
       "        2            1      2     img1  img1_c1_r2_p20      20        100\n",
       "        3            1      3     img1  img1_c1_r3_p30      30        100\n",
       "2       1            2      1     img1  img1_c2_r1_p10      10        100\n",
       "        2            2      2     img1  img1_c2_r2_p20      20        100\n",
       "        3            2      3     img1  img1_c2_r3_p30      30        100"
      ]
     },
     "execution_count": 10,
     "metadata": {},
     "output_type": "execute_result"
    }
   ],
   "source": [
    "jobs = DataFrame(index=pd.MultiIndex.from_product([channel_list, radii_list], names=['channel', 'radius']), columns=['channel','radius','img_name','label','npoints','patchsize'])\n",
    "jobs['img_name'] = imgname\n",
    "for c in channel_list: \n",
    "    jobs.loc[c,'channel'] = c\n",
    "    jobs.loc[c,'radius'] = radii_list\n",
    "    jobs.loc[c,'npoints'] = npoints_list\n",
    "jobs['label'] = jobs.apply(lambda row: f\"{imgname}_c{row.name[0]}_r{row.name[1]}_p{row['npoints']}\", axis='columns')\n",
    "jobs['patchsize'] = patchsize\n",
    "jobs"
   ]
  },
  {
   "cell_type": "code",
   "execution_count": 15,
   "metadata": {},
   "outputs": [
    {
     "data": {
      "text/plain": [
       "[(1,\n",
       "  channel                   0\n",
       "  radius                    1\n",
       "  img_name               img1\n",
       "  label        img1_c0_r1_p10\n",
       "  npoints                  10\n",
       "  patchsize               100\n",
       "  Name: 1, dtype: object),\n",
       " (2,\n",
       "  channel                   0\n",
       "  radius                    2\n",
       "  img_name               img1\n",
       "  label        img1_c0_r2_p20\n",
       "  npoints                  20\n",
       "  patchsize               100\n",
       "  Name: 2, dtype: object),\n",
       " (3,\n",
       "  channel                   0\n",
       "  radius                    3\n",
       "  img_name               img1\n",
       "  label        img1_c0_r3_p30\n",
       "  npoints                  30\n",
       "  patchsize               100\n",
       "  Name: 3, dtype: object)]"
      ]
     },
     "execution_count": 15,
     "metadata": {},
     "output_type": "execute_result"
    }
   ],
   "source": [
    "list(jobs.loc[0].iterrows())"
   ]
  },
  {
   "cell_type": "code",
   "execution_count": 9,
   "metadata": {},
   "outputs": [],
   "source": [
    "jobs.loc[0,'npoints'] = [10,20,30]"
   ]
  },
  {
   "cell_type": "code",
   "execution_count": 6,
   "metadata": {},
   "outputs": [
    {
     "ename": "NameError",
     "evalue": "name 'DataFrame' is not defined",
     "output_type": "error",
     "traceback": [
      "\u001b[1;31m---------------------------------------------------------------------------\u001b[0m",
      "\u001b[1;31mNameError\u001b[0m                                 Traceback (most recent call last)",
      "\u001b[1;32my:\\IMBG\\fastLBP\\src\\fastlbp-imbg\\playground.ipynb Cell 8\u001b[0m line \u001b[0;36m1\n\u001b[1;32m----> <a href='vscode-notebook-cell:/y%3A/IMBG/fastLBP/src/fastlbp-imbg/playground.ipynb#X10sZmlsZQ%3D%3D?line=0'>1</a>\u001b[0m jobs \u001b[39m=\u001b[39m DataFrame(index\u001b[39m=\u001b[39mpd\u001b[39m.\u001b[39mMultiIndex\u001b[39m.\u001b[39mfrom_product([channel_list, radii_list], names\u001b[39m=\u001b[39m[\u001b[39m'\u001b[39m\u001b[39mchannel\u001b[39m\u001b[39m'\u001b[39m, \u001b[39m'\u001b[39m\u001b[39mradius\u001b[39m\u001b[39m'\u001b[39m]))\n\u001b[0;32m      <a href='vscode-notebook-cell:/y%3A/IMBG/fastLBP/src/fastlbp-imbg/playground.ipynb#X10sZmlsZQ%3D%3D?line=1'>2</a>\u001b[0m \u001b[39mfor\u001b[39;00m c \u001b[39min\u001b[39;00m channel_list: \n\u001b[0;32m      <a href='vscode-notebook-cell:/y%3A/IMBG/fastLBP/src/fastlbp-imbg/playground.ipynb#X10sZmlsZQ%3D%3D?line=2'>3</a>\u001b[0m     jobs\u001b[39m.\u001b[39mloc[c,\u001b[39m'\u001b[39m\u001b[39mnpoints\u001b[39m\u001b[39m'\u001b[39m] \u001b[39m=\u001b[39m npoints_list\n",
      "\u001b[1;31mNameError\u001b[0m: name 'DataFrame' is not defined"
     ]
    }
   ],
   "source": [
    "jobs = DataFrame(index=pd.MultiIndex.from_product([channel_list, radii_list], names=['channel', 'radius']))\n",
    "for c in channel_list: \n",
    "    jobs.loc[c,'npoints'] = npoints_list\n",
    "jobs"
   ]
  },
  {
   "cell_type": "code",
   "execution_count": 11,
   "metadata": {},
   "outputs": [
    {
     "data": {
      "text/plain": [
       "Index(['npoints'], dtype='object')"
      ]
     },
     "execution_count": 11,
     "metadata": {},
     "output_type": "execute_result"
    }
   ],
   "source": [
    "jobs.loc[0,2].index"
   ]
  },
  {
   "cell_type": "code",
   "execution_count": 1,
   "metadata": {},
   "outputs": [],
   "source": [
    "import fastlbp\n",
    "import numpy as np\n",
    "from PIL import Image "
   ]
  },
  {
   "cell_type": "code",
   "execution_count": 2,
   "metadata": {},
   "outputs": [
    {
     "data": {
      "text/plain": [
       "(512, 512)"
      ]
     },
     "execution_count": 2,
     "metadata": {},
     "output_type": "execute_result"
    }
   ],
   "source": [
    "img = Image.open(\"../../data/1.tiff\")\n",
    "img_data = np.asarray(img)\n",
    "img_data.shape"
   ]
  },
  {
   "cell_type": "code",
   "execution_count": 3,
   "metadata": {},
   "outputs": [
    {
     "data": {
      "text/plain": [
       "(512, 512, 1)"
      ]
     },
     "execution_count": 3,
     "metadata": {},
     "output_type": "execute_result"
    }
   ],
   "source": [
    "img_data = img_data[:,:,None]\n",
    "img_data.shape"
   ]
  },
  {
   "cell_type": "code",
   "execution_count": 4,
   "metadata": {},
   "outputs": [
    {
     "name": "stderr",
     "output_type": "stream",
     "text": [
      "INFO:fastlbp:run_skimage: jobs:\n",
      "INFO:fastlbp:               channel radius img_name          label npoints  patchsize  \\\n",
      "channel radius                                                             \n",
      "0       1            0      1      img   img_c0_r1_p8       8         64   \n",
      "        2            0      2      img  img_c0_r2_p12      12         64   \n",
      "        3            0      3      img  img_c0_r3_p16      16         64   \n",
      "        4            0      4      img  img_c0_r4_p24      24         64   \n",
      "        5            0      5      img  img_c0_r5_p35      35         64   \n",
      "\n",
      "               img_data  \n",
      "channel radius           \n",
      "0       1           NaN  \n",
      "        2           NaN  \n",
      "        3           NaN  \n",
      "        4           NaN  \n",
      "        5           NaN  \n",
      "INFO:fastlbp:run_skimage: creating shared memory\n",
      "INFO:fastlbp:run_skimage: start computation\n"
     ]
    },
    {
     "ename": "TypeError",
     "evalue": "'module' object is not callable",
     "output_type": "error",
     "traceback": [
      "\u001b[1;31m---------------------------------------------------------------------------\u001b[0m",
      "\u001b[1;31mRemoteTraceback\u001b[0m                           Traceback (most recent call last)",
      "\u001b[1;31mRemoteTraceback\u001b[0m: \n\"\"\"\nTraceback (most recent call last):\n  File \"C:\\Users\\mkrooted\\miniconda3\\envs\\fastlbp\\Lib\\multiprocessing\\pool.py\", line 125, in worker\n    result = (True, func(*args, **kwds))\n                    ^^^^^^^^^^^^^^^^^^^\n  File \"C:\\Users\\mkrooted\\miniconda3\\envs\\fastlbp\\Lib\\multiprocessing\\pool.py\", line 48, in mapstar\n    return list(map(*args))\n           ^^^^^^^^^^^^^^^^\n  File \"y:\\IMBG\\fastLBP\\src\\fastlbp-imbg\\fastlbp.py\", line 22, in __worker_skimage\n    shm = shared_memory(name=job['shm_name'], )\n          ^^^^^^^^^^^^^^^^^^^^^^^^^^^^^^^^^^^^^\nTypeError: 'module' object is not callable\n\"\"\"",
      "\nThe above exception was the direct cause of the following exception:\n",
      "\u001b[1;31mTypeError\u001b[0m                                 Traceback (most recent call last)",
      "\u001b[1;32my:\\IMBG\\fastLBP\\src\\fastlbp-imbg\\playground.ipynb Cell 13\u001b[0m line \u001b[0;36m5\n\u001b[0;32m      <a href='vscode-notebook-cell:/y%3A/IMBG/fastLBP/src/fastlbp-imbg/playground.ipynb#X15sZmlsZQ%3D%3D?line=1'>2</a>\u001b[0m npoints_list \u001b[39m=\u001b[39m [\u001b[39m8\u001b[39m,\u001b[39m12\u001b[39m,\u001b[39m16\u001b[39m,\u001b[39m24\u001b[39m,\u001b[39m35\u001b[39m]\n\u001b[0;32m      <a href='vscode-notebook-cell:/y%3A/IMBG/fastLBP/src/fastlbp-imbg/playground.ipynb#X15sZmlsZQ%3D%3D?line=2'>3</a>\u001b[0m patchsize \u001b[39m=\u001b[39m \u001b[39m64\u001b[39m\n\u001b[1;32m----> <a href='vscode-notebook-cell:/y%3A/IMBG/fastLBP/src/fastlbp-imbg/playground.ipynb#X15sZmlsZQ%3D%3D?line=4'>5</a>\u001b[0m fastlbp\u001b[39m.\u001b[39;49mrun_skimage(img_data, radii_list, npoints_list, patchsize, ncpus\u001b[39m=\u001b[39;49m\u001b[39m1\u001b[39;49m, max_ram\u001b[39m=\u001b[39;49m\u001b[39m100\u001b[39;49m)\n",
      "File \u001b[1;32my:\\IMBG\\fastLBP\\src\\fastlbp-imbg\\fastlbp.py:80\u001b[0m, in \u001b[0;36mrun_skimage\u001b[1;34m(img_data, radii_list, npoints_list, patchsize, ncpus, max_ram, img_name, outfile_name)\u001b[0m\n\u001b[0;32m     78\u001b[0m t0 \u001b[39m=\u001b[39m time\u001b[39m.\u001b[39mperf_counter()\n\u001b[0;32m     79\u001b[0m \u001b[39mwith\u001b[39;00m Pool(ncpus) \u001b[39mas\u001b[39;00m pool:\n\u001b[1;32m---> 80\u001b[0m     jobs_results \u001b[39m=\u001b[39m pool\u001b[39m.\u001b[39;49mmap(func\u001b[39m=\u001b[39;49m__worker_skimage, iterable\u001b[39m=\u001b[39;49mjobs\u001b[39m.\u001b[39;49miterrows())\n\u001b[0;32m     81\u001b[0m     log\u001b[39m.\u001b[39minfo(\u001b[39m'\u001b[39m\u001b[39mrun_skimage: lbp finished. start concatenating\u001b[39m\u001b[39m'\u001b[39m)\n\u001b[0;32m     82\u001b[0m     patch_features \u001b[39m=\u001b[39m np\u001b[39m.\u001b[39mstack(jobs_results, axis\u001b[39m=\u001b[39m\u001b[39m-\u001b[39m\u001b[39m1\u001b[39m)\n",
      "File \u001b[1;32m~\\miniconda3\\envs\\fastlbp\\Lib\\multiprocessing\\pool.py:367\u001b[0m, in \u001b[0;36mPool.map\u001b[1;34m(self, func, iterable, chunksize)\u001b[0m\n\u001b[0;32m    362\u001b[0m \u001b[39mdef\u001b[39;00m \u001b[39mmap\u001b[39m(\u001b[39mself\u001b[39m, func, iterable, chunksize\u001b[39m=\u001b[39m\u001b[39mNone\u001b[39;00m):\n\u001b[0;32m    363\u001b[0m \u001b[39m    \u001b[39m\u001b[39m'''\u001b[39;00m\n\u001b[0;32m    364\u001b[0m \u001b[39m    Apply `func` to each element in `iterable`, collecting the results\u001b[39;00m\n\u001b[0;32m    365\u001b[0m \u001b[39m    in a list that is returned.\u001b[39;00m\n\u001b[0;32m    366\u001b[0m \u001b[39m    '''\u001b[39;00m\n\u001b[1;32m--> 367\u001b[0m     \u001b[39mreturn\u001b[39;00m \u001b[39mself\u001b[39;49m\u001b[39m.\u001b[39;49m_map_async(func, iterable, mapstar, chunksize)\u001b[39m.\u001b[39;49mget()\n",
      "File \u001b[1;32m~\\miniconda3\\envs\\fastlbp\\Lib\\multiprocessing\\pool.py:774\u001b[0m, in \u001b[0;36mApplyResult.get\u001b[1;34m(self, timeout)\u001b[0m\n\u001b[0;32m    772\u001b[0m     \u001b[39mreturn\u001b[39;00m \u001b[39mself\u001b[39m\u001b[39m.\u001b[39m_value\n\u001b[0;32m    773\u001b[0m \u001b[39melse\u001b[39;00m:\n\u001b[1;32m--> 774\u001b[0m     \u001b[39mraise\u001b[39;00m \u001b[39mself\u001b[39m\u001b[39m.\u001b[39m_value\n",
      "\u001b[1;31mTypeError\u001b[0m: 'module' object is not callable"
     ]
    }
   ],
   "source": [
    "radii_list = [1,2,3,4,5]\n",
    "npoints_list = [8,12,16,24,35]\n",
    "patchsize = 64\n",
    "\n",
    "fastlbp.run_skimage(img_data, radii_list, npoints_list, patchsize, ncpus=1, max_ram=100)"
   ]
  },
  {
   "cell_type": "code",
   "execution_count": 5,
   "metadata": {},
   "outputs": [
    {
     "ename": "NameError",
     "evalue": "name 'obs' is not defined",
     "output_type": "error",
     "traceback": [
      "\u001b[1;31m---------------------------------------------------------------------------\u001b[0m",
      "\u001b[1;31mNameError\u001b[0m                                 Traceback (most recent call last)",
      "\u001b[1;32my:\\IMBG\\fastLBP\\src\\fastlbp-imbg\\playground.ipynb Cell 14\u001b[0m line \u001b[0;36m1\n\u001b[1;32m----> <a href='vscode-notebook-cell:/y%3A/IMBG/fastLBP/src/fastlbp-imbg/playground.ipynb#X16sZmlsZQ%3D%3D?line=0'>1</a>\u001b[0m obs\n",
      "\u001b[1;31mNameError\u001b[0m: name 'obs' is not defined"
     ]
    }
   ],
   "source": [
    "obs"
   ]
  }
 ],
 "metadata": {
  "kernelspec": {
   "display_name": "env",
   "language": "python",
   "name": "python3"
  },
  "language_info": {
   "codemirror_mode": {
    "name": "ipython",
    "version": 3
   },
   "file_extension": ".py",
   "mimetype": "text/x-python",
   "name": "python",
   "nbconvert_exporter": "python",
   "pygments_lexer": "ipython3",
   "version": "3.11.5"
  }
 },
 "nbformat": 4,
 "nbformat_minor": 2
}
